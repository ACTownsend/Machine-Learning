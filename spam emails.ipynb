{
 "cells": [
  {
   "cell_type": "code",
   "execution_count": 22,
   "metadata": {},
   "outputs": [
    {
     "name": "stdout",
     "output_type": "stream",
     "text": [
      "1476    ham I'm watching lotr w my sis dis aft. So u w...\n",
      "5543           ham U still havent got urself a jacket ah?\n",
      "2972                         ham Happy New Year Princess!\n",
      "3330        ham How much it will cost approx . Per month.\n",
      "2433    ham Indians r poor but India is not a poor cou...\n",
      "722                         ham That is wondar full flim.\n",
      "dtype: object\n"
     ]
    }
   ],
   "source": [
    "import pandas as pd\n",
    "from sklearn.model_selection import train_test_split\n",
    "from sklearn.feature_extraction.text import CountVectorizer\n",
    "from sklearn import svm \n",
    "\n",
    "spam = pd.read_csv(\"spam.csv\", encoding = \"ISO-8859-1\")   #encoding value set to fix problems when compiling\n",
    "\n",
    "column1 = spam.v1\n",
    "column2 = spam.v2\n",
    "\n",
    "column1_train, column1_test, column2_train, column2_test = train_test_split(column1,column2,test_size = 0.001)\n",
    "print(column1_test + \" \" + column2_test)\n",
    "\n"
   ]
  }
 ],
 "metadata": {
  "kernelspec": {
   "display_name": "Python 3.7.1 32-bit",
   "language": "python",
   "name": "python3"
  },
  "language_info": {
   "codemirror_mode": {
    "name": "ipython",
    "version": 3
   },
   "file_extension": ".py",
   "mimetype": "text/x-python",
   "name": "python",
   "nbconvert_exporter": "python",
   "pygments_lexer": "ipython3",
   "version": "3.7.1"
  },
  "orig_nbformat": 4,
  "vscode": {
   "interpreter": {
    "hash": "8b8782cd4d511a6ab517c265328afd33d87e02b85486b92323979f9781547b50"
   }
  }
 },
 "nbformat": 4,
 "nbformat_minor": 2
}
