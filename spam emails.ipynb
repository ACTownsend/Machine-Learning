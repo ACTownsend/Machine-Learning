{
 "cells": [
  {
   "cell_type": "code",
   "execution_count": 1,
   "metadata": {},
   "outputs": [
    {
     "name": "stdout",
     "output_type": "stream",
     "text": [
      "2835                     ham Nice.nice.how is it working?\n",
      "4028         ham [Û_] anyway, many good evenings to u! s\n",
      "5350    ham No one interested. May be some business plan.\n",
      "2968    ham Ma head dey swell oh. Thanks for making my...\n",
      "1959                          ham Howz that persons story\n",
      "5438             ham \\What are youdoing later? Sar xxx\\\"\"\n",
      "dtype: object\n",
      "  (0, 8054)\t1\n",
      "  (0, 8613)\t1\n",
      "  (0, 5089)\t1\n",
      "  (0, 5436)\t1\n",
      "  (0, 3757)\t1\n",
      "  (0, 1460)\t1\n",
      "  (0, 1320)\t1\n",
      "  (0, 8432)\t1\n",
      "  (0, 399)\t1\n",
      "  (0, 6073)\t1\n",
      "  (0, 3666)\t1\n",
      "  (0, 1813)\t1\n",
      "  (0, 234)\t1\n",
      "  (0, 3397)\t1\n",
      "  (0, 4497)\t1\n",
      "  (0, 4630)\t1\n",
      "  (0, 2054)\t1\n",
      "  (0, 488)\t1\n",
      "  (0, 8095)\t1\n",
      "  (0, 333)\t1\n",
      "  (0, 5537)\t1\n",
      "  (0, 355)\t1\n",
      "  (1, 5499)\t1\n",
      "  (1, 3405)\t1\n",
      "  (1, 4356)\t1\n",
      "  :\t:\n",
      "  (5564, 4575)\t1\n",
      "  (5565, 8613)\t1\n",
      "  (5565, 1320)\t1\n",
      "  (5565, 8432)\t1\n",
      "  (5565, 6073)\t1\n",
      "  (5565, 1813)\t1\n",
      "  (5565, 8608)\t2\n",
      "  (5565, 1224)\t1\n",
      "  (5565, 7755)\t1\n",
      "  (5565, 5367)\t1\n",
      "  (5565, 5477)\t1\n",
      "  (5565, 2399)\t1\n",
      "  (5565, 7620)\t1\n",
      "  (5565, 1183)\t1\n",
      "  (5565, 1054)\t1\n",
      "  (5565, 5087)\t1\n",
      "  (5565, 8099)\t1\n",
      "  (5565, 1608)\t1\n",
      "  (5565, 5880)\t1\n",
      "  (5565, 6459)\t1\n",
      "  (5565, 3291)\t1\n",
      "  (5565, 945)\t1\n",
      "  (5565, 6301)\t1\n",
      "  (5565, 350)\t1\n",
      "  (5565, 267)\t1\n"
     ]
    }
   ],
   "source": [
    "import pandas as pd\n",
    "from sklearn.model_selection import train_test_split\n",
    "from sklearn.feature_extraction.text import CountVectorizer\n",
    "from sklearn import svm \n",
    "\n",
    "spam = pd.read_csv(\"spam.csv\", encoding = \"ISO-8859-1\")   #encoding value set to fix problems when compiling\n",
    "\n",
    "column1 = spam.v1\n",
    "column2 = spam.v2\n",
    "\n",
    "column1_train, column1_test, column2_train, column2_test = train_test_split(column1,column2,test_size = 0.001)\n",
    "print(column1_test + \" \" + column2_test)\n",
    "\n",
    "cv= CountVectorizer()\n",
    "features = cv.fit_transform(column2_train)          #splits every word in every email up and assigns it a number, the program will now be able to track how many times it occurs in other emails.\n",
    "print(features)\n",
    "\n"
   ]
  }
 ],
 "metadata": {
  "kernelspec": {
   "display_name": "Python 3.7.1 32-bit",
   "language": "python",
   "name": "python3"
  },
  "language_info": {
   "codemirror_mode": {
    "name": "ipython",
    "version": 3
   },
   "file_extension": ".py",
   "mimetype": "text/x-python",
   "name": "python",
   "nbconvert_exporter": "python",
   "pygments_lexer": "ipython3",
   "version": "3.7.1"
  },
  "orig_nbformat": 4,
  "vscode": {
   "interpreter": {
    "hash": "8b8782cd4d511a6ab517c265328afd33d87e02b85486b92323979f9781547b50"
   }
  }
 },
 "nbformat": 4,
 "nbformat_minor": 2
}
