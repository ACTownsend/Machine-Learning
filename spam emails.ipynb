{
 "cells": [
  {
   "cell_type": "code",
   "execution_count": 24,
   "metadata": {},
   "outputs": [
    {
     "name": "stdout",
     "output_type": "stream",
     "text": [
      "2687                                             ham Okie\n",
      "5031      ham Ok i vl..do u know i got adsense approved..\n",
      "720                     ham Oh is it? Send me the address\n",
      "4128             ham Me i'm not workin. Once i get job...\n",
      "347                   ham One small prestige problem now.\n",
      "1720    ham Fighting with the world is easy, u either ...\n",
      "dtype: object\n",
      "  (0, 24)\t1\n",
      "  (1, 23)\t1\n",
      "  (1, 36)\t1\n",
      "  (1, 6)\t1\n",
      "  (1, 17)\t1\n",
      "  (1, 12)\t1\n",
      "  (1, 1)\t1\n",
      "  (1, 2)\t1\n",
      "  (2, 22)\t1\n",
      "  (2, 14)\t1\n",
      "  (2, 15)\t1\n",
      "  (2, 30)\t1\n",
      "  (2, 19)\t1\n",
      "  (2, 34)\t1\n",
      "  (2, 0)\t1\n",
      "  (3, 19)\t1\n",
      "  (3, 20)\t1\n",
      "  (3, 40)\t1\n",
      "  (3, 25)\t1\n",
      "  (3, 11)\t1\n",
      "  (3, 16)\t1\n",
      "  (4, 26)\t1\n",
      "  (4, 31)\t1\n",
      "  (4, 28)\t1\n",
      "  (4, 29)\t1\n",
      "  (4, 21)\t1\n",
      "  (5, 14)\t3\n",
      "  (5, 34)\t1\n",
      "  (5, 9)\t1\n",
      "  (5, 39)\t2\n",
      "  (5, 41)\t1\n",
      "  (5, 7)\t1\n",
      "  (5, 8)\t1\n",
      "  (5, 38)\t2\n",
      "  (5, 27)\t1\n",
      "  (5, 18)\t4\n",
      "  (5, 3)\t1\n",
      "  (5, 10)\t1\n",
      "  (5, 32)\t1\n",
      "  (5, 37)\t1\n",
      "  (5, 4)\t1\n",
      "  (5, 35)\t1\n",
      "  (5, 5)\t1\n",
      "  (5, 13)\t2\n",
      "  (5, 33)\t1\n"
     ]
    }
   ],
   "source": [
    "import pandas as pd\n",
    "from sklearn.model_selection import train_test_split\n",
    "from sklearn.feature_extraction.text import CountVectorizer\n",
    "from sklearn import svm \n",
    "\n",
    "spam = pd.read_csv(\"spam.csv\", encoding = \"ISO-8859-1\")   #encoding value set to fix problems when compiling\n",
    "\n",
    "column1 = spam.v1\n",
    "column2 = spam.v2\n",
    "\n",
    "column1_train, column1_test, column2_train, column2_test = train_test_split(column1,column2,test_size = 0.001)\n",
    "print(column1_test + \" \" + column2_test)\n",
    "\n",
    "cv= CountVectorizer()\n",
    "features = cv.fit_transform(column2_train)\n",
    "print(features)\n",
    "\n"
   ]
  }
 ],
 "metadata": {
  "kernelspec": {
   "display_name": "Python 3.7.1 32-bit",
   "language": "python",
   "name": "python3"
  },
  "language_info": {
   "codemirror_mode": {
    "name": "ipython",
    "version": 3
   },
   "file_extension": ".py",
   "mimetype": "text/x-python",
   "name": "python",
   "nbconvert_exporter": "python",
   "pygments_lexer": "ipython3",
   "version": "3.7.1"
  },
  "orig_nbformat": 4,
  "vscode": {
   "interpreter": {
    "hash": "8b8782cd4d511a6ab517c265328afd33d87e02b85486b92323979f9781547b50"
   }
  }
 },
 "nbformat": 4,
 "nbformat_minor": 2
}
